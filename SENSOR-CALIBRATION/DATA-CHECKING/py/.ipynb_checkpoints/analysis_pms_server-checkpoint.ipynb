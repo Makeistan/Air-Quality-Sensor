{
 "cells": [
  {
   "cell_type": "code",
   "execution_count": 1,
   "metadata": {},
   "outputs": [],
   "source": [
    "import pandas as pd"
   ]
  },
  {
   "cell_type": "code",
   "execution_count": 2,
   "metadata": {},
   "outputs": [],
   "source": [
    "DATA_PATH = \"../../DATA+RESULTS/\"\n",
    "SERVER_COLLECTION_1 = \"PMS-SERVER-07-06-2019/\"\n",
    "\n",
    "\n",
    "path = DATA_PATH + SERVER_COLLECTION_1\n",
    "cleanFile = path + \"cleanfile.csv\""
   ]
  },
  {
   "cell_type": "code",
   "execution_count": 3,
   "metadata": {},
   "outputs": [
    {
     "data": {
      "text/html": [
       "<div>\n",
       "<style scoped>\n",
       "    .dataframe tbody tr th:only-of-type {\n",
       "        vertical-align: middle;\n",
       "    }\n",
       "\n",
       "    .dataframe tbody tr th {\n",
       "        vertical-align: top;\n",
       "    }\n",
       "\n",
       "    .dataframe thead th {\n",
       "        text-align: right;\n",
       "    }\n",
       "</style>\n",
       "<table border=\"1\" class=\"dataframe\">\n",
       "  <thead>\n",
       "    <tr style=\"text-align: right;\">\n",
       "      <th></th>\n",
       "      <th>Unnamed: 0</th>\n",
       "      <th>timestamp</th>\n",
       "      <th>device_id</th>\n",
       "      <th>aqi</th>\n",
       "      <th>temperature</th>\n",
       "      <th>humidity</th>\n",
       "      <th>pm1</th>\n",
       "      <th>pm25</th>\n",
       "      <th>pm10</th>\n",
       "    </tr>\n",
       "  </thead>\n",
       "  <tbody>\n",
       "    <tr>\n",
       "      <th>0</th>\n",
       "      <td>0</td>\n",
       "      <td>2019-03-13 21:59:59</td>\n",
       "      <td>1</td>\n",
       "      <td>129</td>\n",
       "      <td>24.8</td>\n",
       "      <td>41.2</td>\n",
       "      <td>30</td>\n",
       "      <td>47</td>\n",
       "      <td>62</td>\n",
       "    </tr>\n",
       "    <tr>\n",
       "      <th>1</th>\n",
       "      <td>1</td>\n",
       "      <td>2019-03-13 22:00:21</td>\n",
       "      <td>1</td>\n",
       "      <td>129</td>\n",
       "      <td>24.8</td>\n",
       "      <td>41.1</td>\n",
       "      <td>30</td>\n",
       "      <td>47</td>\n",
       "      <td>62</td>\n",
       "    </tr>\n",
       "    <tr>\n",
       "      <th>2</th>\n",
       "      <td>2</td>\n",
       "      <td>2019-03-13 22:00:43</td>\n",
       "      <td>1</td>\n",
       "      <td>136</td>\n",
       "      <td>24.8</td>\n",
       "      <td>41.1</td>\n",
       "      <td>31</td>\n",
       "      <td>50</td>\n",
       "      <td>66</td>\n",
       "    </tr>\n",
       "    <tr>\n",
       "      <th>3</th>\n",
       "      <td>3</td>\n",
       "      <td>2019-03-13 22:01:04</td>\n",
       "      <td>1</td>\n",
       "      <td>136</td>\n",
       "      <td>24.8</td>\n",
       "      <td>41.1</td>\n",
       "      <td>32</td>\n",
       "      <td>50</td>\n",
       "      <td>67</td>\n",
       "    </tr>\n",
       "    <tr>\n",
       "      <th>4</th>\n",
       "      <td>4</td>\n",
       "      <td>2019-03-13 22:01:26</td>\n",
       "      <td>1</td>\n",
       "      <td>136</td>\n",
       "      <td>24.8</td>\n",
       "      <td>41.1</td>\n",
       "      <td>32</td>\n",
       "      <td>50</td>\n",
       "      <td>68</td>\n",
       "    </tr>\n",
       "  </tbody>\n",
       "</table>\n",
       "</div>"
      ],
      "text/plain": [
       "   Unnamed: 0            timestamp  device_id  aqi  temperature  humidity  \\\n",
       "0           0  2019-03-13 21:59:59          1  129         24.8      41.2   \n",
       "1           1  2019-03-13 22:00:21          1  129         24.8      41.1   \n",
       "2           2  2019-03-13 22:00:43          1  136         24.8      41.1   \n",
       "3           3  2019-03-13 22:01:04          1  136         24.8      41.1   \n",
       "4           4  2019-03-13 22:01:26          1  136         24.8      41.1   \n",
       "\n",
       "   pm1  pm25  pm10  \n",
       "0   30    47    62  \n",
       "1   30    47    62  \n",
       "2   31    50    66  \n",
       "3   32    50    67  \n",
       "4   32    50    68  "
      ]
     },
     "execution_count": 3,
     "metadata": {},
     "output_type": "execute_result"
    }
   ],
   "source": [
    "dataTable = pd.read_csv(cleanFile)\n",
    "dataTable.head()"
   ]
  },
  {
   "cell_type": "code",
   "execution_count": null,
   "metadata": {},
   "outputs": [],
   "source": []
  }
 ],
 "metadata": {
  "kernelspec": {
   "display_name": "Python 3",
   "language": "python",
   "name": "python3"
  },
  "language_info": {
   "codemirror_mode": {
    "name": "ipython",
    "version": 3
   },
   "file_extension": ".py",
   "mimetype": "text/x-python",
   "name": "python",
   "nbconvert_exporter": "python",
   "pygments_lexer": "ipython3",
   "version": "3.7.3"
  }
 },
 "nbformat": 4,
 "nbformat_minor": 2
}
